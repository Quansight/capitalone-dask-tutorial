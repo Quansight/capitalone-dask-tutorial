{
 "cells": [
  {
   "cell_type": "markdown",
   "metadata": {},
   "source": [
    "<center>\n",
    "    <tr>\n",
    "    <td><img align=\"left\", src=\"./notebooks/images/quansight-logo.png\" width=\"25%\"></img></td>\n",
    "    <td>&nbsp;</td>\n",
    "    <td><img align=\"right\", src=\"./notebooks/images/capital-one-logo.png\" width=\"25%\"></img></td>\n",
    "    </tr>\n",
    "</center>"
   ]
  },
  {
   "cell_type": "markdown",
   "metadata": {},
   "source": [
    "---\n",
    "# Dask Workshop\n",
    "\n",
    "---"
   ]
  },
  {
   "cell_type": "markdown",
   "metadata": {},
   "source": [
    "If you are able to view this notebook, you have managed to set up the Docker container required for this workshop.\n",
    "\n",
    "To keep the Docker container small, the notebooks and data have been bundled separately.\n",
    "\n",
    "To download the notebooks and data, execute the following cell:"
   ]
  },
  {
   "cell_type": "code",
   "execution_count": null,
   "metadata": {},
   "outputs": [],
   "source": [
    "%%time\n",
    "# Insert code to download & extract notebook from Digital Ocean here. It should:\n",
    "# 1. Download the tar ball\n",
    "# 2. Extract the tar ball in this working directory (so notebooks & notebooks/data are subdirectories from $(pwd)).\n",
    "import pathlib, requests, tarfile\n",
    "\n",
    "URL_NB = \"https://capital-one-training-quansight.ams3.digitaloceanspaces.com/Quansight-Dask-Workshop-Notebooks.tar.gz\"\n",
    "FILE_NB = \"Quansight-Dask-Workshop-Notebooks.tar.gz\"\n",
    "URL_DATA = \"https://capital-one-training-quansight.ams3.digitaloceanspaces.com/Quansight-Dask-Workshop-Data.tar.gz\"\n",
    "FILE_DATA = \"Quansight-Dask-Workshop-Data.tar.gz\"\n",
    "files = [FILE_NB, FILE_DATA]\n",
    "urls = [URL_NB, URL_DATA]\n",
    "\n",
    "# 1. Download the tarballs\n",
    "for url, file in zip(urls, files):\n",
    "    r = requests.get(url, allow_redirects=True)\n",
    "    with open(file, 'wb') as f:\n",
    "        f.write(r.content)\n",
    "# 2. Extract & remove the tarballs\n",
    "for file in files:\n",
    "    tf = tarfile.open(file)\n",
    "    tf.extractall()\n",
    "    p = pathlib.Path(file)\n",
    "    p.unlink()    "
   ]
  },
  {
   "cell_type": "markdown",
   "metadata": {},
   "source": [
    "If successful, the folders `notebooks` and `notebooks/data` should be populated with materials required for this workshop."
   ]
  },
  {
   "cell_type": "markdown",
   "metadata": {},
   "source": [
    "<center>\n",
    "    <tr>\n",
    "    <td><img align=\"left\", src=\"./notebooks/images/quansight-logo.png\" width=\"25%\"></img></td>\n",
    "    <td>&nbsp;</td>\n",
    "    <td><img align=\"right\", src=\"./notebooks/images/capital-one-logo.png\" width=\"25%\"></img></td>\n",
    "    </tr>\n",
    "</center>"
   ]
  }
 ],
 "metadata": {
  "kernelspec": {
   "display_name": "Python 3",
   "language": "python",
   "name": "python3"
  },
  "language_info": {
   "codemirror_mode": {
    "name": "ipython",
    "version": 3
   },
   "file_extension": ".py",
   "mimetype": "text/x-python",
   "name": "python",
   "nbconvert_exporter": "python",
   "pygments_lexer": "ipython3",
   "version": "3.8.5"
  }
 },
 "nbformat": 4,
 "nbformat_minor": 4
}
